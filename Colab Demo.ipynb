{
  "cells": [
    {
      "cell_type": "markdown",
      "metadata": {
        "id": "DL_0tSC67biu"
      },
      "source": [
        "\n",
        "Run this notebook in Google Colab to use tensorflow demo 's online model of Mask RCNN and run the complete pipeline demo.\n",
        "\n",
        "Mask RCNN part adapted from https://colab.research.google.com/github/tensorflow/tpu/blob/master/models/official/mask_rcnn/mask_rcnn_demo.ipynb\n"
      ]
    },
    {
      "cell_type": "code",
      "execution_count": 1,
      "metadata": {
        "id": "2nwdFhCzrtOT"
      },
      "outputs": [],
      "source": [
        "import matplotlib as mpl\n",
        "import matplotlib.pyplot as plt\n",
        "import numpy as np\n",
        "from PIL import Image, ImageDraw\n",
        "import cv2"
      ]
    },
    {
      "cell_type": "code",
      "source": [
        "!git clone https://github.com/tensorflow/tpu/"
      ],
      "metadata": {
        "id": "ql4yOZo5wBnq",
        "colab": {
          "base_uri": "https://localhost:8080/"
        },
        "outputId": "faa8a64a-6867-44a3-fd2b-d9f494d943ed"
      },
      "execution_count": 2,
      "outputs": [
        {
          "output_type": "stream",
          "name": "stdout",
          "text": [
            "fatal: destination path 'tpu' already exists and is not an empty directory.\n"
          ]
        }
      ]
    },
    {
      "cell_type": "code",
      "execution_count": 3,
      "metadata": {
        "colab": {
          "base_uri": "https://localhost:8080/"
        },
        "id": "6EtGbyNc8VgS",
        "outputId": "5fb5d997-6148-4a74-9488-b09dfaa0a8c7"
      },
      "outputs": [
        {
          "output_type": "stream",
          "name": "stdout",
          "text": [
            "TensorFlow 1.x selected.\n"
          ]
        }
      ],
      "source": [
        "from IPython import display\n",
        "from PIL import Image\n",
        "import numpy as np\n",
        "%tensorflow_version 1.x\n",
        "import tensorflow as tf\n",
        "import sys\n",
        "sys.path.insert(0, 'tpu/models/official')\n",
        "sys.path.insert(0, 'tpu/models/official/mask_rcnn')\n",
        "import coco_metric\n"
      ]
    },
    {
      "cell_type": "code",
      "source": [
        "tf.__version__"
      ],
      "metadata": {
        "id": "XH5nZmcKv1K9",
        "colab": {
          "base_uri": "https://localhost:8080/",
          "height": 35
        },
        "outputId": "affa0a77-e1d4-4e41-e900-ccea5c47cb1d"
      },
      "execution_count": 4,
      "outputs": [
        {
          "output_type": "execute_result",
          "data": {
            "text/plain": [
              "'1.15.2'"
            ],
            "application/vnd.google.colaboratory.intrinsic+json": {
              "type": "string"
            }
          },
          "metadata": {},
          "execution_count": 4
        }
      ]
    },
    {
      "cell_type": "markdown",
      "metadata": {
        "id": "vkTSG22ePKkz"
      },
      "source": [
        "## Load the COCO index mapping\n",
        "This Colab uses a pretrained checkpoint of the Mask R-CNN model that is trained using the COCO dataset. Here is the mapping between the indices that the model predicts and the categories in text."
      ]
    },
    {
      "cell_type": "code",
      "execution_count": 5,
      "metadata": {
        "id": "_Q5r1zob93OF"
      },
      "outputs": [],
      "source": [
        "ID_MAPPING = {\n",
        "    1: 'person',\n",
        "    2: 'bicycle',\n",
        "    3: 'car',\n",
        "    4: 'motorcycle',\n",
        "    5: 'airplane',\n",
        "    6: 'bus',\n",
        "    7: 'train',\n",
        "    8: 'truck',\n",
        "    9: 'boat',\n",
        "    10: 'traffic light',\n",
        "    11: 'fire hydrant',\n",
        "    13: 'stop sign',\n",
        "    14: 'parking meter',\n",
        "    15: 'bench',\n",
        "    16: 'bird',\n",
        "    17: 'cat',\n",
        "    18: 'dog',\n",
        "    19: 'horse',\n",
        "    20: 'sheep',\n",
        "    21: 'cow',\n",
        "    22: 'elephant',\n",
        "    23: 'bear',\n",
        "    24: 'zebra',\n",
        "    25: 'giraffe',\n",
        "    27: 'backpack',\n",
        "    28: 'umbrella',\n",
        "    31: 'handbag',\n",
        "    32: 'tie',\n",
        "    33: 'suitcase',\n",
        "    34: 'frisbee',\n",
        "    35: 'skis',\n",
        "    36: 'snowboard',\n",
        "    37: 'sports ball',\n",
        "    38: 'kite',\n",
        "    39: 'baseball bat',\n",
        "    40: 'baseball glove',\n",
        "    41: 'skateboard',\n",
        "    42: 'surfboard',\n",
        "    43: 'tennis racket',\n",
        "    44: 'bottle',\n",
        "    46: 'wine glass',\n",
        "    47: 'cup',\n",
        "    48: 'fork',\n",
        "    49: 'knife',\n",
        "    50: 'spoon',\n",
        "    51: 'bowl',\n",
        "    52: 'banana',\n",
        "    53: 'apple',\n",
        "    54: 'sandwich',\n",
        "    55: 'orange',\n",
        "    56: 'broccoli',\n",
        "    57: 'carrot',\n",
        "    58: 'hot dog',\n",
        "    59: 'pizza',\n",
        "    60: 'donut',\n",
        "    61: 'cake',\n",
        "    62: 'chair',\n",
        "    63: 'couch',\n",
        "    64: 'potted plant',\n",
        "    65: 'bed',\n",
        "    67: 'dining table',\n",
        "    70: 'toilet',\n",
        "    72: 'tv',\n",
        "    73: 'laptop',\n",
        "    74: 'mouse',\n",
        "    75: 'remote',\n",
        "    76: 'keyboard',\n",
        "    77: 'cell phone',\n",
        "    78: 'microwave',\n",
        "    79: 'oven',\n",
        "    80: 'toaster',\n",
        "    81: 'sink',\n",
        "    82: 'refrigerator',\n",
        "    84: 'book',\n",
        "    85: 'clock',\n",
        "    86: 'vase',\n",
        "    87: 'scissors',\n",
        "    88: 'teddy bear',\n",
        "    89: 'hair drier',\n",
        "    90: 'toothbrush',\n",
        "}\n",
        "category_index = {k: {'id': k, 'name': ID_MAPPING[k]} for k in ID_MAPPING}"
      ]
    },
    {
      "cell_type": "code",
      "execution_count": 6,
      "metadata": {
        "id": "X0G-tk6wakcr"
      },
      "outputs": [],
      "source": [
        "session = tf.Session(graph=tf.Graph())"
      ]
    },
    {
      "cell_type": "markdown",
      "metadata": {
        "id": "YtXyXw6EaKRj"
      },
      "source": [
        "# Load the pretrained model\n",
        "Loading the COCO pretrained saved model from the public GCS bucket. "
      ]
    },
    {
      "cell_type": "code",
      "execution_count": 7,
      "metadata": {
        "colab": {
          "base_uri": "https://localhost:8080/"
        },
        "id": "6lCL-ZcwaJbA",
        "outputId": "a0edd404-c1d1-40fa-8307-1470868f303e"
      },
      "outputs": [
        {
          "output_type": "stream",
          "name": "stdout",
          "text": [
            "WARNING:tensorflow:From <ipython-input-7-db4504c25995>:2: load (from tensorflow.python.saved_model.loader_impl) is deprecated and will be removed in a future version.\n",
            "Instructions for updating:\n",
            "This function will only be available through the v1 compatibility library as tf.compat.v1.saved_model.loader.load or tf.compat.v1.saved_model.load. There will be a new function for importing SavedModels in Tensorflow 2.0.\n",
            "INFO:tensorflow:Restoring parameters from gs://cloud-tpu-checkpoints/mask-rcnn/1555659850/variables/variables\n"
          ]
        }
      ],
      "source": [
        "saved_model_dir = 'gs://cloud-tpu-checkpoints/mask-rcnn/1555659850' \n",
        "mdl = tf.saved_model.loader.load(session, ['serve'], saved_model_dir)"
      ]
    },
    {
      "cell_type": "markdown",
      "metadata": {
        "id": "HngQNsyjXmvF"
      },
      "source": [
        "## Load an image\n",
        "Utility functions for Constellations pipeline\n"
      ]
    },
    {
      "cell_type": "code",
      "execution_count": 15,
      "metadata": {
        "id": "PZ_7r-vTZbdd"
      },
      "outputs": [],
      "source": [
        "# Function built using original tensorflow notebook for Mask RCNN\n",
        "'''Returns segmenation masks using Mask-RCNN'''\n",
        "def detect(np_image_string,width,height):\n",
        "    num_detections, detection_boxes, detection_classes, detection_scores, detection_masks, image_info = session.run(\n",
        "    ['NumDetections:0', 'DetectionBoxes:0', 'DetectionClasses:0', 'DetectionScores:0', 'DetectionMasks:0', 'ImageInfo:0'],\n",
        "    feed_dict={'Placeholder:0': np_image_string})\n",
        "\n",
        "    num_detections = np.squeeze(num_detections.astype(np.int32), axis=(0,))\n",
        "    detection_boxes = np.squeeze(detection_boxes * image_info[0, 2], axis=(0,))[0:num_detections]\n",
        "    detection_scores = np.squeeze(detection_scores, axis=(0,))[0:num_detections]\n",
        "    detection_classes = np.squeeze(detection_classes.astype(np.int32), axis=(0,))[0:num_detections]\n",
        "    instance_masks = np.squeeze(detection_masks, axis=(0,))[0:num_detections]\n",
        "    ymin, xmin, ymax, xmax = np.split(detection_boxes, 4, axis=-1)\n",
        "    processed_boxes = np.concatenate([xmin, ymin, xmax - xmin, ymax - ymin], axis=-1)\n",
        "    segmentations = coco_metric.generate_segmentation_from_masks(instance_masks, processed_boxes, height, width)\n",
        "    return segmentations"
      ]
    },
    {
      "cell_type": "code",
      "execution_count": 8,
      "metadata": {
        "id": "uDQ4LHiMaVkU"
      },
      "outputs": [],
      "source": [
        "# Function to generate outline of image given the image, segmentation masks and option to use unmased image i.e full = True\n",
        "def outline(image,segmentations,full):\n",
        "    if(not full):\n",
        "        if(len(segmentations)>2):\n",
        "            seg = segmentations[0] + segmentations[1] + segmentations[2]\n",
        "        elif (len(segmentations)>1):\n",
        "            seg = segmentations[0] + segmentations[1]\n",
        "        else:\n",
        "            seg = segmentations[0]\n",
        "        seg[np.where(seg>0) ]=1\n",
        "        for l in range(3):\n",
        "            image[:,:,l]= image[:,:,l]*seg\n",
        "        edges_out = cv2.Canny(seg,1,1)\n",
        "    image = cv2.blur(image, (3,3))\n",
        "    edges = cv2.Canny(image,80,200)\n",
        "    edges = edges | edges_out\n",
        "    return edges\n"
      ]
    },
    {
      "cell_type": "code",
      "execution_count": 9,
      "metadata": {
        "id": "bB8MPJKIRoQE"
      },
      "outputs": [],
      "source": [
        "def draw_circle_white(draw,c,dist):\n",
        "    r = dist\n",
        "    shape = [(c[0]-r,c[1]-r),(c[0]+r,c[1]+r)]\n",
        "    draw.ellipse(shape,fill=250) \n",
        "def draw_circle_black(draw,c,dist):\n",
        "    r = dist\n",
        "    shape = [(c[0]-r,c[1]-r),(c[0]+r,c[1]+r)]\n",
        "    draw.ellipse(shape,fill=0) \n",
        "\n",
        "'''Function to generate a dotted image from an outline'''    \n",
        "def generate_image_dotted(edges,dist=40,dot= 2):\n",
        "    im = Image.fromarray(edges)\n",
        "    # create rectangle image \n",
        "    draw = ImageDraw.Draw(im)   \n",
        "    img_shape = edges.shape\n",
        "    px = im.load()\n",
        "    for i in range(img_shape[0]):\n",
        "        for j in range(img_shape[1]):\n",
        "            if(px[j,i]==255):\n",
        "                draw_circle_black(draw,(j,i),dist)\n",
        "                px[j,i]=255\n",
        "    for i in range(img_shape[0]):\n",
        "        for j in range(img_shape[1]):\n",
        "            if(px[j,i]==255):\n",
        "                draw_circle_white(draw,(j,i),dot)\n",
        "    return im\n",
        "'''Function to add noise with a particular value of probability, Prob (p)'''\n",
        "def add_noise(im,prob = 0.0001,dot =2 ):\n",
        "    draw = ImageDraw.Draw(im)\n",
        "    img_shape = np.array(im).shape\n",
        "    for i in range(img_shape[0]):\n",
        "        for j in range(img_shape[1]):\n",
        "            if(np.random.random()<prob):\n",
        "                draw_circle_white(draw,(j,i),dot)\n",
        "    return np.array(im)\n",
        "\n"
      ]
    },
    {
      "cell_type": "code",
      "execution_count": 10,
      "metadata": {
        "id": "XuxuAIlm0tQA"
      },
      "outputs": [],
      "source": [
        "'''Save image to specifc type folder and image'''\n",
        "def save_image(image, base_folder, image_type, image_name):\n",
        "    if not os.path.isdir(base_folder+'/'+image_type):\n",
        "        os.mkdir(folder_path+'/'+image_type)\n",
        "    plt.imsave(folder_path+'/'+image_type+'/'+image_name+'.jpg',image,cmap='gray')"
      ]
    },
    {
      "cell_type": "code",
      "source": [
        ""
      ],
      "metadata": {
        "id": "2gyeHAJ7xXDd"
      },
      "execution_count": null,
      "outputs": []
    },
    {
      "cell_type": "markdown",
      "source": [
        "## Demo of generating constellation images on an online image"
      ],
      "metadata": {
        "id": "CeQdMD-cxXjU"
      }
    },
    {
      "cell_type": "code",
      "execution_count": 11,
      "metadata": {
        "colab": {
          "base_uri": "https://localhost:8080/"
        },
        "id": "EX7fkNQPAKoa",
        "outputId": "f4b9ccf8-e5e9-4c38-d1cd-b3f0661a5810"
      },
      "outputs": [
        {
          "output_type": "stream",
          "name": "stdout",
          "text": [
            "--2022-04-01 10:57:57--  https://encrypted-tbn0.gstatic.com/images?q=tbn:ANd9GcQZrytwwORdNJugtXOlOKjWi7yaop3Rf2_qbA\n",
            "Resolving encrypted-tbn0.gstatic.com (encrypted-tbn0.gstatic.com)... 74.125.130.102, 74.125.130.138, 74.125.130.100, ...\n",
            "Connecting to encrypted-tbn0.gstatic.com (encrypted-tbn0.gstatic.com)|74.125.130.102|:443... connected.\n",
            "HTTP request sent, awaiting response... 200 OK\n",
            "Length: 4872 (4.8K) [image/jpeg]\n",
            "Saving to: ‘apple.jpg’\n",
            "\n",
            "\rapple.jpg             0%[                    ]       0  --.-KB/s               \rapple.jpg           100%[===================>]   4.76K  --.-KB/s    in 0s      \n",
            "\n",
            "2022-04-01 10:57:57 (65.4 MB/s) - ‘apple.jpg’ saved [4872/4872]\n",
            "\n"
          ]
        }
      ],
      "source": [
        "! wget -O apple.jpg https://encrypted-tbn0.gstatic.com/images?q=tbn:ANd9GcQZrytwwORdNJugtXOlOKjWi7yaop3Rf2_qbA&usqp=CAU\n"
      ]
    },
    {
      "cell_type": "code",
      "execution_count": 16,
      "metadata": {
        "id": "pTQ87aUjAzCk"
      },
      "outputs": [],
      "source": [
        "with open('apple.jpg', 'rb') as f:\n",
        "    np_image_string = np.array([f.read()])\n",
        "image = Image.open('apple.jpg')\n",
        "width, height = image.size"
      ]
    },
    {
      "cell_type": "code",
      "execution_count": 17,
      "metadata": {
        "id": "n_S0Fp48BZoO"
      },
      "outputs": [],
      "source": [
        "segmentations = detect(np_image_string,width,height)"
      ]
    },
    {
      "cell_type": "code",
      "execution_count": 18,
      "metadata": {
        "colab": {
          "base_uri": "https://localhost:8080/",
          "height": 286
        },
        "id": "_mTH_IQ9h_Sp",
        "outputId": "83b41657-4294-4505-908d-8badefe33638"
      },
      "outputs": [
        {
          "output_type": "execute_result",
          "data": {
            "text/plain": [
              "<matplotlib.image.AxesImage at 0x7f090dfee310>"
            ]
          },
          "metadata": {},
          "execution_count": 18
        },
        {
          "output_type": "display_data",
          "data": {
            "text/plain": [
              "<Figure size 432x288 with 1 Axes>"
            ],
            "image/png": "[encoded data removed]"
          },
          "metadata": {
            "needs_background": "light"
          }
        }
      ],
      "source": [
        "plt.imshow(segmentations[2])"
      ]
    },
    {
      "cell_type": "code",
      "execution_count": 19,
      "metadata": {
        "colab": {
          "base_uri": "https://localhost:8080/",
          "height": 286
        },
        "id": "90jkejW7uqJ_",
        "outputId": "79fb652e-a319-47d0-9560-beaa6abedac9"
      },
      "outputs": [
        {
          "output_type": "execute_result",
          "data": {
            "text/plain": [
              "<matplotlib.image.AxesImage at 0x7f090dad25d0>"
            ]
          },
          "metadata": {},
          "execution_count": 19
        },
        {
          "output_type": "display_data",
          "data": {
            "text/plain": [
              "<Figure size 432x288 with 1 Axes>"
            ],
            "image/png": "[encoded data removed]"
          },
          "metadata": {
            "needs_background": "light"
          }
        }
      ],
      "source": [
        "plt.imshow(segmentations[0])"
      ]
    },
    {
      "cell_type": "code",
      "execution_count": 20,
      "metadata": {
        "id": "WhjIGeDB8wak"
      },
      "outputs": [],
      "source": [
        "# Choices for the best outline shall be made here, some cleaning is done manually if needed\n",
        "image = np.array(image)\n",
        "seg = segmentations[0] + segmentations[1] + segmentations[2] # one may have to chose 1,2 or 3 shapes here\n",
        "seg[np.where(seg>0) ]=1\n",
        "for l in range(3):\n",
        "    image[:,:,l]= image[:,:,l]*seg\n",
        "edges_out = cv2.Canny(seg,1,1) # segment outer edge, some images may look better not including this\n",
        "image = cv2.blur(image, (3,3))\n",
        "edges = cv2.Canny(image,80,200) # the parameters of this is one choice that user may have to make\n",
        "edges = edges | edges_out # again some images may look better without the outser edge"
      ]
    },
    {
      "cell_type": "code",
      "execution_count": 21,
      "metadata": {
        "colab": {
          "base_uri": "https://localhost:8080/",
          "height": 286
        },
        "id": "1REqOXZIuA7V",
        "outputId": "7e1fab7c-e66b-415e-f7bd-a6994325a124"
      },
      "outputs": [
        {
          "output_type": "execute_result",
          "data": {
            "text/plain": [
              "<matplotlib.image.AxesImage at 0x7f090da45d50>"
            ]
          },
          "metadata": {},
          "execution_count": 21
        },
        {
          "output_type": "display_data",
          "data": {
            "text/plain": [
              "<Figure size 432x288 with 1 Axes>"
            ],
            "image/png": "[encoded data removed]"
          },
          "metadata": {
            "needs_background": "light"
          }
        }
      ],
      "source": [
        "plt.imshow(edges)"
      ]
    },
    {
      "cell_type": "code",
      "execution_count": 21,
      "metadata": {
        "id": "xMMmA9mRT6er"
      },
      "outputs": [],
      "source": [
        ""
      ]
    },
    {
      "cell_type": "markdown",
      "metadata": {
        "id": "Ev3XLrSFUA63"
      },
      "source": [
        "## Generate dotted image"
      ]
    },
    {
      "cell_type": "code",
      "execution_count": 22,
      "metadata": {
        "id": "Gi6o5BXpUlHY"
      },
      "outputs": [],
      "source": [
        "dotted = generate_image_dotted(edges,10,2) # the two parameters here should be controlled i.e distance between dots 'd' , radius of dots\n"
      ]
    },
    {
      "cell_type": "code",
      "execution_count": 23,
      "metadata": {
        "colab": {
          "base_uri": "https://localhost:8080/",
          "height": 286
        },
        "id": "6XS5WEjYVJBb",
        "outputId": "2fad4fca-3020-4777-e846-9bd3262d54d3"
      },
      "outputs": [
        {
          "output_type": "execute_result",
          "data": {
            "text/plain": [
              "<matplotlib.image.AxesImage at 0x7f090d9c82d0>"
            ]
          },
          "metadata": {},
          "execution_count": 23
        },
        {
          "output_type": "display_data",
          "data": {
            "text/plain": [
              "<Figure size 432x288 with 1 Axes>"
            ],
            "image/png": "[encoded data removed]"
          },
          "metadata": {
            "needs_background": "light"
          }
        }
      ],
      "source": [
        "plt.imshow(dotted)"
      ]
    },
    {
      "cell_type": "markdown",
      "metadata": {
        "id": "IrxXpE0VVdjA"
      },
      "source": [
        "## add noise"
      ]
    },
    {
      "cell_type": "code",
      "execution_count": 24,
      "metadata": {
        "id": "nep7lMFcU_a0"
      },
      "outputs": [],
      "source": [
        "final = add_noise(dotted,prob = 0.001,dot =2 ) # two paramters here, probability of noise ('p') , diameter of dots (will remian same as above)"
      ]
    },
    {
      "cell_type": "code",
      "execution_count": 25,
      "metadata": {
        "colab": {
          "base_uri": "https://localhost:8080/",
          "height": 286
        },
        "id": "B1-qrhfhVNXL",
        "outputId": "0a38c9ed-b74e-437a-d355-367d1f14f9d1"
      },
      "outputs": [
        {
          "output_type": "execute_result",
          "data": {
            "text/plain": [
              "<matplotlib.image.AxesImage at 0x7f090d9b3810>"
            ]
          },
          "metadata": {},
          "execution_count": 25
        },
        {
          "output_type": "display_data",
          "data": {
            "text/plain": [
              "<Figure size 432x288 with 1 Axes>"
            ],
            "image/png": "[encoded data removed]"
          },
          "metadata": {
            "needs_background": "light"
          }
        }
      ],
      "source": [
        "plt.imshow(final)"
      ]
    },
    {
      "cell_type": "code",
      "execution_count": null,
      "metadata": {
        "id": "WdVaXoq9pYce"
      },
      "outputs": [],
      "source": [
        ""
      ]
    }
  ],
  "metadata": {
    "accelerator": "GPU",
    "colab": {
      "collapsed_sections": [],
      "name": "Constellation Images pipeline: Shared",
      "provenance": []
    },
    "kernelspec": {
      "display_name": "Python 3",
      "name": "python3"
    }
  },
  "nbformat": 4,
  "nbformat_minor": 0
}