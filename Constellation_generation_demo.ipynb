{
 "cells": [
  {
   "cell_type": "markdown",
   "metadata": {},
   "source": [
    "## Notebook showing how to use the constellation code to generate constellation images offline. To have a quick look at the working, please use the (Colab Demo.ipynb) version by uploading to colab. "
   ]
  },
  {
   "cell_type": "markdown",
   "metadata": {},
   "source": [
    "For this version download the the trained Mask RCNN model as explained in readme and extract it in the directory of this notebook."
   ]
  },
  {
   "cell_type": "code",
   "execution_count": 1,
   "metadata": {
    "id": "2nwdFhCzrtOT"
   },
   "outputs": [],
   "source": [
    "import matplotlib as mpl\n",
    "import matplotlib.pyplot as plt\n",
    "import numpy as np\n",
    "from PIL import Image, ImageDraw\n",
    "import cv2\n",
    "import tensorflow as tf\n",
    "import coco_metric"
   ]
  },
  {
   "cell_type": "code",
   "execution_count": 2,
   "metadata": {},
   "outputs": [],
   "source": [
    "from constellations_tools import *"
   ]
  },
  {
   "cell_type": "markdown",
   "metadata": {},
   "source": [
    "## Utility code from Mask RCNN demo"
   ]
  },
  {
   "cell_type": "markdown",
   "metadata": {},
   "source": [
    "You can replace your own Mask RCNN implementation and use the rest of the pipeline, same way."
   ]
  },
  {
   "cell_type": "code",
   "execution_count": 3,
   "metadata": {
    "id": "_Q5r1zob93OF"
   },
   "outputs": [],
   "source": [
    "# mapping used from original Mask RCNN tuitorial : https://colab.research.google.com/github/tensorflow/tpu/blob/master/models/official/mask_rcnn/mask_rcnn_demo.ipynb\n",
    "ID_MAPPING = {\n",
    "    1: 'person',\n",
    "    2: 'bicycle',\n",
    "    3: 'car',\n",
    "    4: 'motorcycle',\n",
    "    5: 'airplane',\n",
    "    6: 'bus',\n",
    "    7: 'train',\n",
    "    8: 'truck',\n",
    "    9: 'boat',\n",
    "    10: 'traffic light',\n",
    "    11: 'fire hydrant',\n",
    "    13: 'stop sign',\n",
    "    14: 'parking meter',\n",
    "    15: 'bench',\n",
    "    16: 'bird',\n",
    "    17: 'cat',\n",
    "    18: 'dog',\n",
    "    19: 'horse',\n",
    "    20: 'sheep',\n",
    "    21: 'cow',\n",
    "    22: 'elephant',\n",
    "    23: 'bear',\n",
    "    24: 'zebra',\n",
    "    25: 'giraffe',\n",
    "    27: 'backpack',\n",
    "    28: 'umbrella',\n",
    "    31: 'handbag',\n",
    "    32: 'tie',\n",
    "    33: 'suitcase',\n",
    "    34: 'frisbee',\n",
    "    35: 'skis',\n",
    "    36: 'snowboard',\n",
    "    37: 'sports ball',\n",
    "    38: 'kite',\n",
    "    39: 'baseball bat',\n",
    "    40: 'baseball glove',\n",
    "    41: 'skateboard',\n",
    "    42: 'surfboard',\n",
    "    43: 'tennis racket',\n",
    "    44: 'bottle',\n",
    "    46: 'wine glass',\n",
    "    47: 'cup',\n",
    "    48: 'fork',\n",
    "    49: 'knife',\n",
    "    50: 'spoon',\n",
    "    51: 'bowl',\n",
    "    52: 'banana',\n",
    "    53: 'apple',\n",
    "    54: 'sandwich',\n",
    "    55: 'orange',\n",
    "    56: 'broccoli',\n",
    "    57: 'carrot',\n",
    "    58: 'hot dog',\n",
    "    59: 'pizza',\n",
    "    60: 'donut',\n",
    "    61: 'cake',\n",
    "    62: 'chair',\n",
    "    63: 'couch',\n",
    "    64: 'potted plant',\n",
    "    65: 'bed',\n",
    "    67: 'dining table',\n",
    "    70: 'toilet',\n",
    "    72: 'tv',\n",
    "    73: 'laptop',\n",
    "    74: 'mouse',\n",
    "    75: 'remote',\n",
    "    76: 'keyboard',\n",
    "    77: 'cell phone',\n",
    "    78: 'microwave',\n",
    "    79: 'oven',\n",
    "    80: 'toaster',\n",
    "    81: 'sink',\n",
    "    82: 'refrigerator',\n",
    "    84: 'book',\n",
    "    85: 'clock',\n",
    "    86: 'vase',\n",
    "    87: 'scissors',\n",
    "    88: 'teddy bear',\n",
    "    89: 'hair drier',\n",
    "    90: 'toothbrush',\n",
    "}\n",
    "category_index = {k: {'id': k, 'name': ID_MAPPING[k]} for k in ID_MAPPING}"
   ]
  },
  {
   "cell_type": "markdown",
   "metadata": {},
   "source": [
    "### Tensorflow Inits"
   ]
  },
  {
   "cell_type": "code",
   "execution_count": 4,
   "metadata": {
    "id": "X0G-tk6wakcr"
   },
   "outputs": [
    {
     "name": "stdout",
     "output_type": "stream",
     "text": [
      "WARNING:tensorflow:From /tmp/ipykernel_41959/358659738.py:2: The name tf.Session is deprecated. Please use tf.compat.v1.Session instead.\n",
      "\n"
     ]
    },
    {
     "name": "stderr",
     "output_type": "stream",
     "text": [
      "2022-04-01 16:30:08.590782: I tensorflow/core/platform/cpu_feature_guard.cc:145] This TensorFlow binary is optimized with Intel(R) MKL-DNN to use the following CPU instructions in performance critical operations:  SSE4.1 SSE4.2 AVX\n",
      "To enable them in non-MKL-DNN operations, rebuild TensorFlow with the appropriate compiler flags.\n",
      "2022-04-01 16:30:08.616166: I tensorflow/core/platform/profile_utils/cpu_utils.cc:94] CPU Frequency: 2194530000 Hz\n",
      "2022-04-01 16:30:08.616659: I tensorflow/compiler/xla/service/service.cc:168] XLA service 0x55863f1f4b30 initialized for platform Host (this does not guarantee that XLA will be used). Devices:\n",
      "2022-04-01 16:30:08.616719: I tensorflow/compiler/xla/service/service.cc:176]   StreamExecutor device (0): Host, Default Version\n",
      "OMP: Info #212: KMP_AFFINITY: decoding x2APIC ids.\n",
      "OMP: Info #210: KMP_AFFINITY: Affinity capable, using global cpuid leaf 11 info\n",
      "OMP: Info #154: KMP_AFFINITY: Initial OS proc set respected: 16,36\n",
      "OMP: Info #156: KMP_AFFINITY: 2 available OS procs\n",
      "OMP: Info #157: KMP_AFFINITY: Uniform topology\n",
      "OMP: Info #179: KMP_AFFINITY: 1 packages x 1 cores/pkg x 2 threads/core (1 total cores)\n",
      "OMP: Info #214: KMP_AFFINITY: OS proc to physical thread map:\n",
      "OMP: Info #171: KMP_AFFINITY: OS proc 16 maps to package 1 thread 0 \n",
      "OMP: Info #171: KMP_AFFINITY: OS proc 36 maps to package 1 thread 1 \n",
      "OMP: Info #250: KMP_AFFINITY: pid 41959 tid 41959 thread 0 bound to OS proc set 16\n",
      "2022-04-01 16:30:08.618280: I tensorflow/core/common_runtime/process_util.cc:115] Creating new thread pool with default inter op setting: 2. Tune using inter_op_parallelism_threads for best performance.\n"
     ]
    }
   ],
   "source": [
    "g = tf.Graph()\n",
    "session = tf.Session(graph=g)"
   ]
  },
  {
   "cell_type": "code",
   "execution_count": 5,
   "metadata": {
    "colab": {
     "base_uri": "https://localhost:8080/"
    },
    "id": "ndk3HOcx0NKg",
    "outputId": "3278b862-1e0d-4ee2-a8cb-cb093c667357"
   },
   "outputs": [
    {
     "name": "stdout",
     "output_type": "stream",
     "text": [
      "WARNING:tensorflow:From /tmp/ipykernel_41959/1095852104.py:1: load (from tensorflow.python.saved_model.loader_impl) is deprecated and will be removed in a future version.\n",
      "Instructions for updating:\n",
      "This function will only be available through the v1 compatibility library as tf.compat.v1.saved_model.loader.load or tf.compat.v1.saved_model.load. There will be a new function for importing SavedModels in Tensorflow 2.0.\n",
      "INFO:tensorflow:Restoring parameters from segmentation_model8/variables/variables\n"
     ]
    }
   ],
   "source": [
    "mdl = tf.saved_model.loader.load(session, ['serve'], 'segmentation_model8')"
   ]
  },
  {
   "cell_type": "markdown",
   "metadata": {
    "id": "HngQNsyjXmvF"
   },
   "source": [
    "## Actual Demo: \n",
    "### Load an image\n",
    "Now, you can load an image. Use either the sample image included here, or update the field with an image of your choice."
   ]
  },
  {
   "cell_type": "code",
   "execution_count": 6,
   "metadata": {
    "id": "pTQ87aUjAzCk"
   },
   "outputs": [],
   "source": [
    "with open('apple_10s_small.jpg', 'rb') as f:\n",
    "    np_image_string = np.array([f.read()])\n",
    "image = Image.open('apple_10s_small.jpg')\n",
    "width, height = image.size"
   ]
  },
  {
   "cell_type": "code",
   "execution_count": 7,
   "metadata": {
    "id": "n_S0Fp48BZoO"
   },
   "outputs": [
    {
     "name": "stderr",
     "output_type": "stream",
     "text": [
      "OMP: Info #250: KMP_AFFINITY: pid 41959 tid 42200 thread 1 bound to OS proc set 36\n",
      "OMP: Info #250: KMP_AFFINITY: pid 41959 tid 42218 thread 2 bound to OS proc set 16\n",
      "OMP: Info #250: KMP_AFFINITY: pid 41959 tid 42199 thread 3 bound to OS proc set 36\n",
      "OMP: Info #250: KMP_AFFINITY: pid 41959 tid 42220 thread 4 bound to OS proc set 16\n"
     ]
    }
   ],
   "source": [
    "segmentations = detect(np_image_string,width,height,session) # Get  all Mask-RCNN segmentation masks"
   ]
  },
  {
   "cell_type": "code",
   "execution_count": 8,
   "metadata": {
    "colab": {
     "base_uri": "https://localhost:8080/",
     "height": 286
    },
    "id": "_mTH_IQ9h_Sp",
    "outputId": "013af51c-7dca-4232-d3c6-daf16a57bbc3"
   },
   "outputs": [
    {
     "data": {
      "text/plain": [
       "<matplotlib.image.AxesImage at 0x2af2ed5cb290>"
      ]
     },
     "execution_count": 8,
     "metadata": {},
     "output_type": "execute_result"
    },
    {
     "data": {
      "image/png": "[encoded data removed]",
      "text/plain": [
       "<Figure size 432x288 with 1 Axes>"
      ]
     },
     "metadata": {
      "needs_background": "light"
     },
     "output_type": "display_data"
    }
   ],
   "source": [
    "plt.imshow(segmentations[2])"
   ]
  },
  {
   "cell_type": "markdown",
   "metadata": {},
   "source": [
    "### Manual Choices"
   ]
  },
  {
   "cell_type": "markdown",
   "metadata": {},
   "source": [
    "A lot of manual fine tuning and choices need to be made at this step to get the best outline"
   ]
  },
  {
   "cell_type": "code",
   "execution_count": 9,
   "metadata": {
    "id": "WhjIGeDB8wak"
   },
   "outputs": [],
   "source": [
    "# Choices for the best outline shall be made here, some cleaning is done manually if needed\n",
    "image = np.array(image)\n",
    "seg = segmentations[0]   # one may have to chose 1,2 or 3 shapes here\n",
    "seg[np.where(seg>0) ]=1\n",
    "for l in range(3):\n",
    "    image[:,:,l]= image[:,:,l]*seg\n",
    "edges_out = cv2.Canny(seg,1,1) # segment outer edge, some images may look better not including this\n",
    "image = cv2.blur(image, (3,3))\n",
    "edges = cv2.Canny(image,80,200) # the parameters of this is one choice that user may have to make\n",
    "edges = edges | edges_out # again some images may look better without the outser edge"
   ]
  },
  {
   "cell_type": "code",
   "execution_count": 10,
   "metadata": {
    "colab": {
     "base_uri": "https://localhost:8080/",
     "height": 286
    },
    "id": "1REqOXZIuA7V",
    "outputId": "9bfd146f-4ebd-41b5-9abf-93c2a3553780"
   },
   "outputs": [
    {
     "data": {
      "text/plain": [
       "<matplotlib.image.AxesImage at 0x2af2ed68f850>"
      ]
     },
     "execution_count": 10,
     "metadata": {},
     "output_type": "execute_result"
    },
    {
     "data": {
      "image/png": "[encoded data removed]",
      "text/plain": [
       "<Figure size 432x288 with 1 Axes>"
      ]
     },
     "metadata": {
      "needs_background": "light"
     },
     "output_type": "display_data"
    }
   ],
   "source": [
    "plt.imshow(edges)"
   ]
  },
  {
   "cell_type": "code",
   "execution_count": null,
   "metadata": {
    "id": "xMMmA9mRT6er"
   },
   "outputs": [],
   "source": []
  },
  {
   "cell_type": "markdown",
   "metadata": {
    "id": "Ev3XLrSFUA63"
   },
   "source": [
    "## Generate dotted image"
   ]
  },
  {
   "cell_type": "code",
   "execution_count": 11,
   "metadata": {
    "id": "Gi6o5BXpUlHY"
   },
   "outputs": [],
   "source": [
    "dotted = generate_image_dotted(edges,30,2) # the two parameters here should be controlled i.e distance between dots 'd' , radius of dots\n"
   ]
  },
  {
   "cell_type": "code",
   "execution_count": 12,
   "metadata": {
    "colab": {
     "base_uri": "https://localhost:8080/",
     "height": 286
    },
    "id": "6XS5WEjYVJBb",
    "outputId": "b0c8b24a-ebf9-40dd-9d23-68f8a1f24f1c"
   },
   "outputs": [
    {
     "data": {
      "text/plain": [
       "<matplotlib.image.AxesImage at 0x2af2ed732590>"
      ]
     },
     "execution_count": 12,
     "metadata": {},
     "output_type": "execute_result"
    },
    {
     "data": {
      "image/png": "[encoded data removed]",
      "text/plain": [
       "<Figure size 432x288 with 1 Axes>"
      ]
     },
     "metadata": {
      "needs_background": "light"
     },
     "output_type": "display_data"
    }
   ],
   "source": [
    "plt.imshow(dotted)"
   ]
  },
  {
   "cell_type": "markdown",
   "metadata": {
    "id": "IrxXpE0VVdjA"
   },
   "source": [
    "## add noise"
   ]
  },
  {
   "cell_type": "code",
   "execution_count": 13,
   "metadata": {
    "id": "nep7lMFcU_a0"
   },
   "outputs": [],
   "source": [
    "final = add_noise(dotted,prob = 0.001,dot =2 ) # two paramters here, probability of noise ('p') , diameter of dots (will remian same as above)"
   ]
  },
  {
   "cell_type": "code",
   "execution_count": 14,
   "metadata": {
    "colab": {
     "base_uri": "https://localhost:8080/",
     "height": 286
    },
    "id": "B1-qrhfhVNXL",
    "outputId": "909d0149-f594-4193-f27f-896459ad41da"
   },
   "outputs": [
    {
     "data": {
      "text/plain": [
       "<matplotlib.image.AxesImage at 0x2af2ed7b1cd0>"
      ]
     },
     "execution_count": 14,
     "metadata": {},
     "output_type": "execute_result"
    },
    {
     "data": {
      "image/png": "[encoded data removed]",
      "text/plain": [
       "<Figure size 432x288 with 1 Axes>"
      ]
     },
     "metadata": {
      "needs_background": "light"
     },
     "output_type": "display_data"
    }
   ],
   "source": [
    "plt.imshow(final)"
   ]
  }
 ],
 "metadata": {
  "accelerator": "GPU",
  "colab": {
   "collapsed_sections": [],
   "name": "Copy of Constellation Images pipeline: Shared",
   "provenance": []
  },
  "kernelspec": {
   "display_name": "Python 3",
   "language": "python",
   "name": "python3"
  },
  "language_info": {
   "codemirror_mode": {
    "name": "ipython",
    "version": 3
   },
   "file_extension": ".py",
   "mimetype": "text/x-python",
   "name": "python",
   "nbconvert_exporter": "python",
   "pygments_lexer": "ipython3",
   "version": "3.7.12"
  }
 },
 "nbformat": 4,
 "nbformat_minor": 4
}
