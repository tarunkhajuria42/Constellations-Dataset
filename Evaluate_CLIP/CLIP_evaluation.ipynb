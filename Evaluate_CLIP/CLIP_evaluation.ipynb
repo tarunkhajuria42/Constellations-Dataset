{
 "cells": [
  {
   "cell_type": "code",
   "execution_count": null,
   "id": "02e12de4-09b9-4650-998e-09516d9d614d",
   "metadata": {},
   "outputs": [],
   "source": [
    "import torch\n",
    "import clip\n",
    "from PIL import Image\n",
    "import csv\n",
    "import os\n",
    "import numpy as np"
   ]
  },
  {
   "cell_type": "markdown",
   "id": "0d28828e-86f1-4db2-9d07-8fc9cc46bfca",
   "metadata": {},
   "source": [
    "## Read meta and arrange labels"
   ]
  },
  {
   "cell_type": "code",
   "execution_count": 3,
   "id": "7e9ce081-65e1-4f92-bc0a-01386da253e6",
   "metadata": {},
   "outputs": [],
   "source": [
    "label_dict = {}"
   ]
  },
  {
   "cell_type": "code",
   "execution_count": 4,
   "id": "b20df27f-5e98-4a33-9dc2-7fba3ab300f5",
   "metadata": {},
   "outputs": [],
   "source": [
    "# get things_concepts.tsv from https://osf.io/jum2f/ in main/ folder\n",
    "with open(\"things_concepts.tsv\") as file:\n",
    "    tsv_file = csv.reader(file, delimiter=\"\\t\")\n",
    "    for i,line in enumerate(tsv_file):\n",
    "        name = line[1]\n",
    "        label_dict[name] = {}\n",
    "        label_dict[name]['bottom'] = line[14]\n",
    "        label_dict[name]['top'] = line[16] # chose top-down categories as true labels to evaluate prediction"
   ]
  },
  {
   "cell_type": "code",
   "execution_count": 5,
   "id": "3521a238-19cb-47ee-95aa-fd1d4d150a85",
   "metadata": {},
   "outputs": [],
   "source": [
    "image_meta = {}"
   ]
  },
  {
   "cell_type": "code",
   "execution_count": 6,
   "id": "8c763ce3-e49f-4a62-ba8d-80d70d686192",
   "metadata": {},
   "outputs": [],
   "source": [
    "images_files = os.listdir('CVPR/Original/')"
   ]
  },
  {
   "cell_type": "code",
   "execution_count": 7,
   "id": "117b4cda-f73e-42fe-ad4a-4dba98f97379",
   "metadata": {},
   "outputs": [],
   "source": [
    "# create label object for images in our dataset that have some top-down categories given. \n",
    "sel_meta = {}\n",
    "bottoms = []\n",
    "tops = []\n",
    "for im in images_files:\n",
    "    parts = im.split('_')\n",
    "    parts = parts[:-1]\n",
    "    if(len(parts)>1):\n",
    "        name = parts[0]+'_'+parts[1]\n",
    "    else:\n",
    "        name = parts[0]\n",
    "    im_name = im.split('.')[0]\n",
    "    image_meta[im]=name\n",
    "    tp = label_dict[name]['top']\n",
    "    if(tp == ''):\n",
    "        continue\n",
    "    if(',' in tp):\n",
    "        tp = tp.split(',')\n",
    "    sel_meta[im_name] = tp "
   ]
  },
  {
   "cell_type": "code",
   "execution_count": 8,
   "id": "c79df08f-046b-444b-a770-8bf0b54e686b",
   "metadata": {},
   "outputs": [
    {
     "data": {
      "text/plain": [
       "2566"
      ]
     },
     "execution_count": 8,
     "metadata": {},
     "output_type": "execute_result"
    }
   ],
   "source": [
    "len(sel_meta.keys()) # number of images in our set with top-down labels. We will use only these images in our analysis"
   ]
  },
  {
   "cell_type": "code",
   "execution_count": 9,
   "id": "561476be-b02e-4055-bfd5-64e9f85d40db",
   "metadata": {},
   "outputs": [],
   "source": [
    "# script to find all unique labels for our classification task\n",
    "labels = []\n",
    "for k in sel_meta:\n",
    "    label = sel_meta[k]\n",
    "    if(type(label) is list):\n",
    "        for l in label:\n",
    "            labels.append(l)\n",
    "    else:\n",
    "        labels.append(label)"
   ]
  },
  {
   "cell_type": "code",
   "execution_count": 10,
   "id": "edf9d434-fe50-48a2-af56-9d36c391d9a3",
   "metadata": {},
   "outputs": [],
   "source": [
    "text_labels = np.unique(labels) # here we have all the unique labels"
   ]
  },
  {
   "cell_type": "markdown",
   "id": "84559cf8-e41e-4524-bd77-cbd967bcf139",
   "metadata": {},
   "source": [
    "## Evaluate Vit B/32 with top 3 accuracy"
   ]
  },
  {
   "cell_type": "code",
   "execution_count": 120,
   "id": "3530a4b3-2824-432a-88dd-7d3af937dd67",
   "metadata": {},
   "outputs": [],
   "source": [
    "vit_32 = []"
   ]
  },
  {
   "cell_type": "code",
   "execution_count": 121,
   "id": "f8c896b5-5c24-4ae3-a9be-7963be13ed1a",
   "metadata": {},
   "outputs": [],
   "source": [
    "## Load model\n",
    "device = \"cuda\" if torch.cuda.is_available() else \"cpu\"\n",
    "model, preprocess = clip.load(\"ViT-B/32\", device=device)\n",
    "\n",
    "text = clip.tokenize(text_labels).to(device)\n",
    "\n",
    "with torch.no_grad():\n",
    "    text_features = model.encode_text(text)\n",
    "    \n"
   ]
  },
  {
   "cell_type": "code",
   "execution_count": 122,
   "id": "8aaaeca1-cda8-4ba2-8c94-ab6debca737c",
   "metadata": {},
   "outputs": [
    {
     "name": "stdout",
     "output_type": "stream",
     "text": [
      "1820 / 2566\n"
     ]
    }
   ],
   "source": [
    "## Check on Original Images\n",
    "input_images_dir = 'CVPR/Original/'\n",
    "correct = 0\n",
    "for i,im in enumerate(sel_meta.keys()):\n",
    "    image = preprocess(Image.open(input_images_dir+im+'.jpg')).unsqueeze(0).to(device)\n",
    "    \n",
    "    logits_per_image, logits_per_text = model(image, text)\n",
    "    probs = logits_per_image.softmax(dim=-1).detach().cpu().numpy()\n",
    "    o_cats = text_labels[np.flip(np.argsort(probs))][0][:3] # top 3 accuracy\n",
    "    cats = sel_meta[im]\n",
    "    for o_cat in o_cats:\n",
    "        if(o_cat in cats):\n",
    "            correct +=1\n",
    "            break\n",
    "print(correct,'/',len(sel_meta.keys()))    \n",
    "vit_32.append(correct)    "
   ]
  },
  {
   "cell_type": "code",
   "execution_count": 123,
   "id": "f91460b2-eaeb-4205-8e3f-be1bece01244",
   "metadata": {},
   "outputs": [
    {
     "name": "stdout",
     "output_type": "stream",
     "text": [
      "1508 / 2566\n"
     ]
    }
   ],
   "source": [
    "# Check correctly identified outline images\n",
    "input_images_dir = 'CVPR/Outline/'\n",
    "correct = 0\n",
    "for i,im in enumerate(sel_meta.keys()):\n",
    "    image = preprocess(Image.open(input_images_dir+im+'.jpg')).unsqueeze(0).to(device)\n",
    "    \n",
    "    logits_per_image, logits_per_text = model(image, text)\n",
    "    probs = logits_per_image.softmax(dim=-1).detach().cpu().numpy()\n",
    "    o_cats = text_labels[np.flip(np.argsort(probs))][0][:3] # top 3 accuracy\n",
    "    cats = sel_meta[im]\n",
    "    for o_cat in o_cats:\n",
    "        if(o_cat in cats):\n",
    "            correct +=1\n",
    "            break\n",
    "print(correct,'/',len(sel_meta.keys()))    \n",
    "vit_32.append(correct)    "
   ]
  },
  {
   "cell_type": "code",
   "execution_count": 124,
   "id": "83c8f6cb-e18c-4c70-bc43-6e608403237f",
   "metadata": {},
   "outputs": [
    {
     "name": "stdout",
     "output_type": "stream",
     "text": [
      "764 / 2566\n"
     ]
    }
   ],
   "source": [
    "# Check correctly identified dotted images with distance 8\n",
    "input_images_dir = 'CVPR/Dotted_8/'\n",
    "correct = 0\n",
    "for i,im in enumerate(sel_meta.keys()):\n",
    "    image = preprocess(Image.open(input_images_dir+im+'.jpg')).unsqueeze(0).to(device)\n",
    "    \n",
    "    logits_per_image, logits_per_text = model(image, text)\n",
    "    probs = logits_per_image.softmax(dim=-1).detach().cpu().numpy()\n",
    "    o_cats = text_labels[np.flip(np.argsort(probs))][0][:3] # top 3 accuracy\n",
    "    cats = sel_meta[im]\n",
    "    for o_cat in o_cats:\n",
    "        if(o_cat in cats):\n",
    "            correct +=1\n",
    "            break\n",
    "print(correct,'/',len(sel_meta.keys()))    \n",
    "vit_32.append(correct)        "
   ]
  },
  {
   "cell_type": "code",
   "execution_count": 125,
   "id": "70de4e1c-a10d-4478-a762-5380d2eb70ac",
   "metadata": {},
   "outputs": [
    {
     "name": "stdout",
     "output_type": "stream",
     "text": [
      "374 / 2566\n"
     ]
    }
   ],
   "source": [
    "# Check correctly identified constellations images with distance 8\n",
    "input_images_dir = 'CVPR/Constellation_8/'\n",
    "correct = 0\n",
    "for i,im in enumerate(sel_meta.keys()):\n",
    "    image = preprocess(Image.open(input_images_dir+im+'.jpg')).unsqueeze(0).to(device)\n",
    "    \n",
    "    logits_per_image, logits_per_text = model(image, text)\n",
    "    probs = logits_per_image.softmax(dim=-1).detach().cpu().numpy()\n",
    "    o_cats = text_labels[np.flip(np.argsort(probs))][0][:3] # top 3 accuracy\n",
    "    cats = sel_meta[im]\n",
    "    for o_cat in o_cats:\n",
    "        if(o_cat in cats):\n",
    "            correct +=1\n",
    "            break\n",
    "print(correct,'/',len(sel_meta.keys()))    \n",
    "vit_32.append(correct)        "
   ]
  },
  {
   "cell_type": "markdown",
   "id": "48c75aeb-9d20-4986-947f-d55c8d09d9ae",
   "metadata": {},
   "source": [
    "## VIT B/16"
   ]
  },
  {
   "cell_type": "code",
   "execution_count": 114,
   "id": "ff6c6b92-0fa9-4463-b678-95a3748a1025",
   "metadata": {},
   "outputs": [],
   "source": [
    "vit_16 = []"
   ]
  },
  {
   "cell_type": "code",
   "execution_count": 115,
   "id": "7724a034-e052-45ec-9071-ca8076c651a9",
   "metadata": {},
   "outputs": [],
   "source": [
    "device = \"cuda\" if torch.cuda.is_available() else \"cpu\"\n",
    "model, preprocess = clip.load(\"ViT-B/16\", device=device)\n",
    "\n",
    "text = clip.tokenize(text_labels).to(device)\n",
    "\n",
    "with torch.no_grad():\n",
    "    text_features = model.encode_text(text)\n",
    "    \n"
   ]
  },
  {
   "cell_type": "code",
   "execution_count": 116,
   "id": "f41ba673-122d-45ca-b3ed-7a80b4d1c477",
   "metadata": {},
   "outputs": [
    {
     "name": "stdout",
     "output_type": "stream",
     "text": [
      "1891 / 2566\n"
     ]
    }
   ],
   "source": [
    "input_images_dir = 'CVPR/Original/'\n",
    "correct = 0\n",
    "for i,im in enumerate(sel_meta.keys()):\n",
    "    image = preprocess(Image.open(input_images_dir+im+'.jpg')).unsqueeze(0).to(device)\n",
    "    \n",
    "    logits_per_image, logits_per_text = model(image, text)\n",
    "    probs = logits_per_image.softmax(dim=-1).detach().cpu().numpy()\n",
    "    o_cats = text_labels[np.flip(np.argsort(probs))][0][:3] # top 5 accuracy\n",
    "    cats = sel_meta[im]\n",
    "    for o_cat in o_cats:\n",
    "        if(o_cat in cats):\n",
    "            correct +=1\n",
    "            break\n",
    "print(correct,'/',len(sel_meta.keys()))    \n",
    "vit_16.append(correct)    "
   ]
  },
  {
   "cell_type": "code",
   "execution_count": 117,
   "id": "24e187d2-a910-4706-805e-f6ced7ff5566",
   "metadata": {},
   "outputs": [
    {
     "name": "stdout",
     "output_type": "stream",
     "text": [
      "1544 / 2566\n"
     ]
    }
   ],
   "source": [
    "# Check correctly identifies outline images\n",
    "input_images_dir = 'CVPR/Outline/'\n",
    "correct = 0\n",
    "for i,im in enumerate(sel_meta.keys()):\n",
    "    image = preprocess(Image.open(input_images_dir+im+'.jpg')).unsqueeze(0).to(device)\n",
    "    \n",
    "    logits_per_image, logits_per_text = model(image, text)\n",
    "    probs = logits_per_image.softmax(dim=-1).detach().cpu().numpy()\n",
    "    o_cats = text_labels[np.flip(np.argsort(probs))][0][:3] # top 3 accuracy\n",
    "    cats = sel_meta[im]\n",
    "    for o_cat in o_cats:\n",
    "        if(o_cat in cats):\n",
    "            correct +=1\n",
    "            break\n",
    "print(correct,'/',len(sel_meta.keys()))    \n",
    "vit_16.append(correct)    "
   ]
  },
  {
   "cell_type": "code",
   "execution_count": 118,
   "id": "a1e61536-2279-479f-8ebc-14f0e43b02fd",
   "metadata": {},
   "outputs": [
    {
     "name": "stdout",
     "output_type": "stream",
     "text": [
      "978 / 2566\n"
     ]
    }
   ],
   "source": [
    "input_images_dir = 'CVPR/Dotted_8/'\n",
    "correct = 0\n",
    "for i,im in enumerate(sel_meta.keys()):\n",
    "    image = preprocess(Image.open(input_images_dir+im+'.jpg')).unsqueeze(0).to(device)\n",
    "    \n",
    "    logits_per_image, logits_per_text = model(image, text)\n",
    "    probs = logits_per_image.softmax(dim=-1).detach().cpu().numpy()\n",
    "    o_cats = text_labels[np.flip(np.argsort(probs))][0][:3] # top 3 accuracy\n",
    "    cats = sel_meta[im]\n",
    "    for o_cat in o_cats:\n",
    "        if(o_cat in cats):\n",
    "            correct +=1\n",
    "            break\n",
    "print(correct,'/',len(sel_meta.keys()))    \n",
    "vit_16.append(correct)   "
   ]
  },
  {
   "cell_type": "code",
   "execution_count": 119,
   "id": "7210aa0c-ec9e-4b74-93a2-14ea18ae4700",
   "metadata": {},
   "outputs": [
    {
     "name": "stdout",
     "output_type": "stream",
     "text": [
      "437 / 2566\n"
     ]
    }
   ],
   "source": [
    "input_images_dir = 'CVPR/Constellation_8/'\n",
    "correct = 0\n",
    "for i,im in enumerate(sel_meta.keys()):\n",
    "    image = preprocess(Image.open(input_images_dir+im+'.jpg')).unsqueeze(0).to(device)\n",
    "    \n",
    "    logits_per_image, logits_per_text = model(image, text)\n",
    "    probs = logits_per_image.softmax(dim=-1).detach().cpu().numpy()\n",
    "    o_cats = text_labels[np.flip(np.argsort(probs))][0][:3] # top 3 accuracy\n",
    "    cats = sel_meta[im]\n",
    "    for o_cat in o_cats:\n",
    "        if(o_cat in cats):\n",
    "            correct +=1\n",
    "            break\n",
    "print(correct,'/',len(sel_meta.keys()))    \n",
    "vit_16.append(correct)    "
   ]
  },
  {
   "cell_type": "markdown",
   "id": "2cf565e6-9bdf-4f70-a6a9-4cf2e1bf9895",
   "metadata": {},
   "source": [
    "## Resnet 50X4"
   ]
  },
  {
   "cell_type": "code",
   "execution_count": 126,
   "id": "9cee46f0-b62d-4dd7-b896-dbfb60e36b09",
   "metadata": {},
   "outputs": [],
   "source": [
    "resnet_50_4 = []"
   ]
  },
  {
   "cell_type": "code",
   "execution_count": 127,
   "id": "79442e43-6e2d-49f1-a1f9-6e362047eb5d",
   "metadata": {},
   "outputs": [],
   "source": [
    "device = \"cuda\" if torch.cuda.is_available() else \"cpu\"\n",
    "model, preprocess = clip.load('RN50x4', device=device,jit=False )\n",
    "\n",
    "text = clip.tokenize(text_labels).to(device)\n",
    "\n",
    "with torch.no_grad():\n",
    "    text_features = model.encode_text(text)\n",
    "    \n"
   ]
  },
  {
   "cell_type": "code",
   "execution_count": 128,
   "id": "9d0932e7-99a0-46de-85cd-074937286508",
   "metadata": {},
   "outputs": [
    {
     "name": "stdout",
     "output_type": "stream",
     "text": [
      "1706 / 2566\n"
     ]
    }
   ],
   "source": [
    "input_images_dir = 'CVPR/Original/'\n",
    "correct = 0\n",
    "for i,im in enumerate(sel_meta.keys()):\n",
    "    image = preprocess(Image.open(input_images_dir+im+'.jpg')).unsqueeze(0).to(device)\n",
    "    \n",
    "    logits_per_image, logits_per_text = model(image, text)\n",
    "    probs = logits_per_image.softmax(dim=-1).detach().cpu().numpy()\n",
    "    o_cats = text_labels[np.flip(np.argsort(probs))][0][:3] # top 3 accuracy\n",
    "    cats = sel_meta[im]\n",
    "    for o_cat in o_cats:\n",
    "        if(o_cat in cats):\n",
    "            correct +=1\n",
    "            break\n",
    "print(correct,'/',len(sel_meta.keys()))    \n",
    "resnet_50_4.append(correct)    "
   ]
  },
  {
   "cell_type": "code",
   "execution_count": 129,
   "id": "bf83bd8b-024a-4a9f-9780-cf526915fc37",
   "metadata": {},
   "outputs": [
    {
     "name": "stdout",
     "output_type": "stream",
     "text": [
      "1476 / 2566\n"
     ]
    }
   ],
   "source": [
    "# Check correctly identifies outline images\n",
    "input_images_dir = 'CVPR/Outline/'\n",
    "correct = 0\n",
    "for i,im in enumerate(sel_meta.keys()):\n",
    "    image = preprocess(Image.open(input_images_dir+im+'.jpg')).unsqueeze(0).to(device)\n",
    "    \n",
    "    logits_per_image, logits_per_text = model(image, text)\n",
    "    probs = logits_per_image.softmax(dim=-1).detach().cpu().numpy()\n",
    "    o_cats = text_labels[np.flip(np.argsort(probs))][0][:3] # top 3 accuracy\n",
    "    cats = sel_meta[im]\n",
    "    for o_cat in o_cats:\n",
    "        if(o_cat in cats):\n",
    "            correct +=1\n",
    "            break\n",
    "print(correct,'/',len(sel_meta.keys()))    \n",
    "resnet_50_4.append(correct)        "
   ]
  },
  {
   "cell_type": "code",
   "execution_count": 130,
   "id": "7a005e84-7856-4fa9-9097-d8e64073da2f",
   "metadata": {},
   "outputs": [
    {
     "name": "stdout",
     "output_type": "stream",
     "text": [
      "671 / 2566\n"
     ]
    }
   ],
   "source": [
    "input_images_dir = 'CVPR/Dotted_8/'\n",
    "correct = 0\n",
    "for i,im in enumerate(sel_meta.keys()):\n",
    "    image = preprocess(Image.open(input_images_dir+im+'.jpg')).unsqueeze(0).to(device)\n",
    "    \n",
    "    logits_per_image, logits_per_text = model(image, text)\n",
    "    probs = logits_per_image.softmax(dim=-1).detach().cpu().numpy()\n",
    "    o_cats = text_labels[np.flip(np.argsort(probs))][0][:3] # top 3 accuracy\n",
    "    cats = sel_meta[im]\n",
    "    for o_cat in o_cats:\n",
    "        if(o_cat in cats):\n",
    "            correct +=1\n",
    "            break\n",
    "print(correct,'/',len(sel_meta.keys()))    \n",
    "resnet_50_4.append(correct)        "
   ]
  },
  {
   "cell_type": "code",
   "execution_count": 131,
   "id": "3f029200-f6f7-4aa7-95a8-7aa5a6c694e0",
   "metadata": {},
   "outputs": [
    {
     "name": "stdout",
     "output_type": "stream",
     "text": [
      "214 / 2566\n"
     ]
    }
   ],
   "source": [
    "input_images_dir = 'CVPR/Constellation_8/'\n",
    "correct = 0\n",
    "for i,im in enumerate(sel_meta.keys()):\n",
    "    image = preprocess(Image.open(input_images_dir+im+'.jpg')).unsqueeze(0).to(device)\n",
    "    \n",
    "    logits_per_image, logits_per_text = model(image, text)\n",
    "    probs = logits_per_image.softmax(dim=-1).detach().cpu().numpy()\n",
    "    o_cats = text_labels[np.flip(np.argsort(probs))][0][:3] # top 3 accuracy\n",
    "    cats = sel_meta[im]\n",
    "    for o_cat in o_cats:\n",
    "        if(o_cat in cats):\n",
    "            correct +=1\n",
    "            break\n",
    "print(correct,'/',len(sel_meta.keys()))    \n",
    "resnet_50_4.append(correct)        "
   ]
  },
  {
   "cell_type": "markdown",
   "id": "95cfd5cf-4662-4f32-977b-cdb473e80be0",
   "metadata": {
    "tags": []
   },
   "source": [
    "## Resnet large"
   ]
  },
  {
   "cell_type": "code",
   "execution_count": 108,
   "id": "41092804-951e-468f-b515-191575d77126",
   "metadata": {},
   "outputs": [],
   "source": [
    "resnet_large = []"
   ]
  },
  {
   "cell_type": "code",
   "execution_count": 109,
   "id": "408e94f4-dd4c-42cf-9085-b8e56ba5b9fd",
   "metadata": {},
   "outputs": [],
   "source": [
    "device = \"cuda\" if torch.cuda.is_available() else \"cpu\"\n",
    "model, preprocess = clip.load('RN50x16', device=device,jit=False )\n",
    "\n",
    "text = clip.tokenize(text_labels).to(device)\n",
    "\n",
    "with torch.no_grad():\n",
    "    text_features = model.encode_text(text)\n",
    "    \n"
   ]
  },
  {
   "cell_type": "code",
   "execution_count": 110,
   "id": "2366d81c-6f61-47ad-9916-2d2e1da7afb5",
   "metadata": {},
   "outputs": [
    {
     "name": "stdout",
     "output_type": "stream",
     "text": [
      "1760 / 2566\n"
     ]
    }
   ],
   "source": [
    "input_images_dir = 'CVPR/Original/'\n",
    "correct = 0\n",
    "for i,im in enumerate(sel_meta.keys()):\n",
    "    image = preprocess(Image.open(input_images_dir+im+'.jpg')).unsqueeze(0).to(device)\n",
    "    \n",
    "    logits_per_image, logits_per_text = model(image, text)\n",
    "    probs = logits_per_image.softmax(dim=-1).detach().cpu().numpy()\n",
    "    o_cats = text_labels[np.flip(np.argsort(probs))][0][:3] # top 3 accuracy\n",
    "    cats = sel_meta[im]\n",
    "    for o_cat in o_cats:\n",
    "        if(o_cat in cats):\n",
    "            correct +=1\n",
    "            break\n",
    "print(correct,'/',len(sel_meta.keys()))    \n",
    "resnet_large.append(correct)    "
   ]
  },
  {
   "cell_type": "code",
   "execution_count": 111,
   "id": "cf009454-c085-4972-bc12-2f5c42c4c5dd",
   "metadata": {},
   "outputs": [
    {
     "name": "stdout",
     "output_type": "stream",
     "text": [
      "1547 / 2566\n"
     ]
    }
   ],
   "source": [
    "input_images_dir = 'CVPR/Outline/'\n",
    "correct = 0\n",
    "for i,im in enumerate(sel_meta.keys()):\n",
    "    image = preprocess(Image.open(input_images_dir+im+'.jpg')).unsqueeze(0).to(device)\n",
    "    \n",
    "    logits_per_image, logits_per_text = model(image, text)\n",
    "    probs = logits_per_image.softmax(dim=-1).detach().cpu().numpy()\n",
    "    o_cats = text_labels[np.flip(np.argsort(probs))][0][:3] # top 3 accuracy\n",
    "    cats = sel_meta[im]\n",
    "    for o_cat in o_cats:\n",
    "        if(o_cat in cats):\n",
    "            correct +=1\n",
    "            break\n",
    "print(correct,'/',len(sel_meta.keys()))    \n",
    "resnet_large.append(correct)    "
   ]
  },
  {
   "cell_type": "code",
   "execution_count": 112,
   "id": "d664be3d-ecda-4f95-820a-9de489930cd5",
   "metadata": {},
   "outputs": [
    {
     "name": "stdout",
     "output_type": "stream",
     "text": [
      "844 / 2566\n"
     ]
    }
   ],
   "source": [
    "input_images_dir = 'CVPR/Dotted_8/'\n",
    "correct = 0\n",
    "for i,im in enumerate(sel_meta.keys()):\n",
    "    image = preprocess(Image.open(input_images_dir+im+'.jpg')).unsqueeze(0).to(device)\n",
    "    \n",
    "    logits_per_image, logits_per_text = model(image, text)\n",
    "    probs = logits_per_image.softmax(dim=-1).detach().cpu().numpy()\n",
    "    o_cats = text_labels[np.flip(np.argsort(probs))][0][:3] # top 3 accuracy\n",
    "    cats = sel_meta[im]\n",
    "    for o_cat in o_cats:\n",
    "        if(o_cat in cats):\n",
    "            correct +=1\n",
    "            break\n",
    "print(correct,'/',len(sel_meta.keys()))    \n",
    "resnet_large.append(correct)    "
   ]
  },
  {
   "cell_type": "code",
   "execution_count": 113,
   "id": "4660286a-7a92-4d74-9324-c8ddfdb39006",
   "metadata": {},
   "outputs": [
    {
     "name": "stdout",
     "output_type": "stream",
     "text": [
      "364 / 2566\n"
     ]
    }
   ],
   "source": [
    "input_images_dir = 'CVPR/Constellation_8/'\n",
    "correct = 0\n",
    "for i,im in enumerate(sel_meta.keys()):\n",
    "    image = preprocess(Image.open(input_images_dir+im+'.jpg')).unsqueeze(0).to(device)\n",
    "    \n",
    "    logits_per_image, logits_per_text = model(image, text)\n",
    "    probs = logits_per_image.softmax(dim=-1).detach().cpu().numpy()\n",
    "    o_cats = text_labels[np.flip(np.argsort(probs))][0][:3] # top 3 accuracy\n",
    "    cats = sel_meta[im]\n",
    "    for o_cat in o_cats:\n",
    "        if(o_cat in cats):\n",
    "            correct +=1\n",
    "            break\n",
    "print(correct,'/',len(sel_meta.keys()))    \n",
    "resnet_large.append(correct)  "
   ]
  },
  {
   "cell_type": "markdown",
   "id": "2ac28f43-c539-4a37-bcba-1a4a8f5f1513",
   "metadata": {},
   "source": [
    "## Plot"
   ]
  },
  {
   "cell_type": "markdown",
   "id": "c62d6056-fc59-4650-b001-75fc11b7d7f9",
   "metadata": {},
   "source": [
    "### Comparison between modalities"
   ]
  },
  {
   "cell_type": "code",
   "execution_count": 132,
   "id": "06e75718-3a87-492f-9632-fd7b3186b35d",
   "metadata": {},
   "outputs": [
    {
     "data": {
      "text/plain": [
       "[1820, 1508, 764, 374]"
      ]
     },
     "execution_count": 132,
     "metadata": {},
     "output_type": "execute_result"
    }
   ],
   "source": [
    "vit_32 "
   ]
  },
  {
   "cell_type": "code",
   "execution_count": 133,
   "id": "ec5a03a6-2ff8-4793-bb2b-6b425e7331ea",
   "metadata": {},
   "outputs": [],
   "source": [
    "vit_16 = np.array(vit_16)\n",
    "vit_32 = np.array(vit_32)\n",
    "resnet_50_4 = np.array(resnet_50_4)\n",
    "resnet_large = np.array(resnet_large)"
   ]
  },
  {
   "cell_type": "code",
   "execution_count": 134,
   "id": "f1fe7e90-f56c-4859-b4da-088cefcc286c",
   "metadata": {},
   "outputs": [],
   "source": [
    "total_images_evaluated = 2566"
   ]
  },
  {
   "cell_type": "code",
   "execution_count": 138,
   "id": "ff31feb6-0fbc-4a66-8a53-da3b25ce39ba",
   "metadata": {},
   "outputs": [],
   "source": [
    "vit_16_acc = vit_16/total_images_evaluated\n",
    "vit_32_acc = vit_32/total_images_evaluated\n",
    "resnet_50_4_acc = resnet_50_4/total_images_evaluated\n",
    "resnet_large_acc = resnet_large/total_images_evaluated"
   ]
  },
  {
   "cell_type": "code",
   "execution_count": 190,
   "id": "335e2fee-dd12-4c71-b7b7-74b11de60907",
   "metadata": {},
   "outputs": [],
   "source": [
    "baseline = (1- (40/41)*(40/41)*(40/41))  # 41 object categories in our subset, top 3 accuracy"
   ]
  },
  {
   "cell_type": "code",
   "execution_count": 191,
   "id": "f354d5df-8d56-4621-a599-fe018d912f6c",
   "metadata": {},
   "outputs": [
    {
     "data": {
      "text/plain": [
       "0.07140058908025138"
      ]
     },
     "execution_count": 191,
     "metadata": {},
     "output_type": "execute_result"
    }
   ],
   "source": [
    "baseline"
   ]
  },
  {
   "cell_type": "code",
   "execution_count": 194,
   "id": "47dc224e-f50a-4af2-ad65-469a7d9128dc",
   "metadata": {},
   "outputs": [
    {
     "data": {
      "image/png": "[encoded data removed]",
      "text/plain": [
       "<Figure size 720x504 with 1 Axes>"
      ]
     },
     "metadata": {
      "needs_background": "light"
     },
     "output_type": "display_data"
    }
   ],
   "source": [
    "import matplotlib.pyplot as plt\n",
    "import numpy as np\n",
    "\n",
    "font = {'weight' : 'normal',\n",
    "        'size'   : 16}\n",
    "\n",
    "matplotlib.rc('font', **font)\n",
    "labels = ['Original', 'Outline', 'Dotted (d =8)', 'Constellations(d=8)']\n",
    "vit_p = vit_acc\n",
    "resnet_p = resnet_acc\n",
    "\n",
    "x = np.arange(len(labels))  # the label locations\n",
    "width = 0.2  # the width of the bars\n",
    "\n",
    "#plt.figure(figsize=(15, 90))\n",
    "fig, ax = plt.subplots()\n",
    "fig.set_size_inches(10, 7)\n",
    "\n",
    "rects1 = ax.bar(x - 3*(width/2), vit_16_acc, width, label='Vit B/32', color = 'black')\n",
    "rects2 = ax.bar(x - width/2, vit_32_acc, width, label='Vit B/16',color = 'white',edgecolor='black',hatch = '.')\n",
    "rects3 = ax.bar(x + width/2, resnet_large_acc, width, label='Resnet 50X16',color = 'grey',edgecolor='black')\n",
    "rects4 = ax.bar(x + 3*(width/2), resnet_50_4_acc, width, label='Resnet 50X4',color = 'white', hatch = '/',edgecolor='black')\n",
    "\n",
    "# Add some text for labels, title and custom x-axis tick labels, etc.\n",
    "ax.set_ylabel('Top 3 Accuracy')\n",
    "ax.set_xticks(x, labels,rotation = 30)\n",
    "ax.legend()\n",
    "ax.axhline(y=baseline, color='black', linestyle='--')\n",
    "\n",
    "\n",
    "fig.tight_layout()\n",
    "\n",
    "plt.show()"
   ]
  }
 ],
 "metadata": {
  "kernelspec": {
   "display_name": "Python 3",
   "language": "python",
   "name": "python3"
  },
  "language_info": {
   "codemirror_mode": {
    "name": "ipython",
    "version": 3
   },
   "file_extension": ".py",
   "mimetype": "text/x-python",
   "name": "python",
   "nbconvert_exporter": "python",
   "pygments_lexer": "ipython3",
   "version": "3.6.6"
  }
 },
 "nbformat": 4,
 "nbformat_minor": 5
}
