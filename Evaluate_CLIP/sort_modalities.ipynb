{
 "cells": [
  {
   "cell_type": "code",
   "execution_count": 2,
   "metadata": {},
   "outputs": [],
   "source": [
    "import os\n",
    "from shutil import copyfile"
   ]
  },
  {
   "cell_type": "code",
   "execution_count": 3,
   "metadata": {},
   "outputs": [],
   "source": [
    "input_dir = '' # give path to main dataset folder with one of p = 0.002 or p = 0.003\n",
    "original = '' # Path of folder to store all original images\n",
    "outline = '' # Path of folder to store all outline images\n",
    "dotted_8 = '' # Path of folder to store all dotted_8 images\n",
    "constellations_8 = '' # Path of folder to store all constellations_8 images\n"
   ]
  },
  {
   "cell_type": "code",
   "execution_count": 6,
   "metadata": {},
   "outputs": [],
   "source": [
    "objects = os.listdir(input_dir)\n"
   ]
  },
  {
   "cell_type": "code",
   "execution_count": 10,
   "metadata": {},
   "outputs": [],
   "source": [
    "for obj in objects:\n",
    "    object_path = input_dir+obj+'/'\n",
    "    copyfile(object_path + 'Original/'+obj+'.jpg',original+obj+'.jpg')\n",
    "    copyfile(object_path + 'Outline/'+obj+'.jpg',outline+obj+'.jpg')\n",
    "    copyfile(object_path + 'dotted/'+obj+'_8.jpg',dotted_8+obj+'.jpg')\n",
    "    copyfile(object_path + 'constellations/'+obj+'_8.jpg',constellations_8+obj+'.jpg')"
   ]
  }
 ],
 "metadata": {
  "kernelspec": {
   "display_name": "Python 3",
   "language": "python",
   "name": "python3"
  },
  "language_info": {
   "codemirror_mode": {
    "name": "ipython",
    "version": 3
   },
   "file_extension": ".py",
   "mimetype": "text/x-python",
   "name": "python",
   "nbconvert_exporter": "python",
   "pygments_lexer": "ipython3",
   "version": "3.6.6"
  }
 },
 "nbformat": 4,
 "nbformat_minor": 4
}
