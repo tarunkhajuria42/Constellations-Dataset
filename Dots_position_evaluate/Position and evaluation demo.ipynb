{
 "cells": [
  {
   "cell_type": "code",
   "execution_count": 1,
   "id": "73630773-71e3-411c-a7f5-723e814bb80e",
   "metadata": {},
   "outputs": [],
   "source": [
    "from matplotlib import pyplot as plt\n",
    "from dot_position_utils import *\n",
    "import numpy as np"
   ]
  },
  {
   "cell_type": "markdown",
   "id": "3fb18880-f351-4038-a2e7-a098ec0a025d",
   "metadata": {},
   "source": [
    "### Count dots in the reference image: use constellation image or dotted image(for evaluating ground truth)  "
   ]
  },
  {
   "cell_type": "code",
   "execution_count": 2,
   "id": "05f17f2e-d927-47c0-8db1-5d54b35056c0",
   "metadata": {},
   "outputs": [
    {
     "data": {
      "text/plain": [
       "355"
      ]
     },
     "execution_count": 2,
     "metadata": {},
     "output_type": "execute_result"
    }
   ],
   "source": [
    "# dots image\n",
    "image = 'apple_06s_13.jpg'\n",
    "dots = stimuli_dots(image)\n",
    "len(dots) # total dots in image"
   ]
  },
  {
   "cell_type": "markdown",
   "id": "5d35a409-eeda-4740-8163-375d144e74fb",
   "metadata": {},
   "source": [
    "### Get the drawn contours from the drawn image"
   ]
  },
  {
   "cell_type": "code",
   "execution_count": 3,
   "id": "f1104bf2-a4ef-4e6a-8183-880e1759a566",
   "metadata": {},
   "outputs": [],
   "source": [
    "gray = drawing_figure('apple_06s_13_solution.jpg') "
   ]
  },
  {
   "cell_type": "code",
   "execution_count": 4,
   "id": "5ede771e-9b71-4bff-b423-595255bb2dc4",
   "metadata": {},
   "outputs": [
    {
     "data": {
      "text/plain": [
       "<matplotlib.image.AxesImage at 0x7f87cab2e240>"
      ]
     },
     "execution_count": 4,
     "metadata": {},
     "output_type": "execute_result"
    },
    {
     "data": {
      "image/png": "[encoded data removed]",
      "text/plain": [
       "<Figure size 432x288 with 1 Axes>"
      ]
     },
     "metadata": {
      "needs_background": "light"
     },
     "output_type": "display_data"
    }
   ],
   "source": [
    "plt.imshow(gray)"
   ]
  },
  {
   "cell_type": "markdown",
   "id": "9005760a-7f68-497e-94f3-c4df5a27f1c5",
   "metadata": {},
   "source": [
    "### Check number of points the drawn contour touches in the reference image"
   ]
  },
  {
   "cell_type": "code",
   "execution_count": 5,
   "id": "ae680eff-95eb-44c5-a7f3-fe9336e20924",
   "metadata": {},
   "outputs": [],
   "source": [
    "d_img = points_on_image(gray,dots,2) # "
   ]
  },
  {
   "cell_type": "code",
   "execution_count": 6,
   "id": "094dad14-9f97-4a14-95fc-09d4af84e524",
   "metadata": {},
   "outputs": [
    {
     "data": {
      "text/plain": [
       "51"
      ]
     },
     "execution_count": 6,
     "metadata": {},
     "output_type": "execute_result"
    }
   ],
   "source": [
    "len(d_img) \n",
    "# this term can be used to identify how many dots is the line touching. "
   ]
  }
 ],
 "metadata": {
  "kernelspec": {
   "display_name": "Python 3",
   "language": "python",
   "name": "python3"
  },
  "language_info": {
   "codemirror_mode": {
    "name": "ipython",
    "version": 3
   },
   "file_extension": ".py",
   "mimetype": "text/x-python",
   "name": "python",
   "nbconvert_exporter": "python",
   "pygments_lexer": "ipython3",
   "version": "3.6.6"
  }
 },
 "nbformat": 4,
 "nbformat_minor": 5
}
